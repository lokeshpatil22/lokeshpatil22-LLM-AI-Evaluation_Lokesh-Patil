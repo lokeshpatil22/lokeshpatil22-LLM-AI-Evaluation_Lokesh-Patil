{
 "cells": [
  {
   "cell_type": "markdown",
   "id": "24d1688e",
   "metadata": {},
   "source": [
    "## Text Processing (with a language model)"
   ]
  },
  {
   "cell_type": "code",
   "execution_count": null,
   "id": "0fbd4b02",
   "metadata": {},
   "outputs": [],
   "source": [
    "# 1) install the transformer library using pip install transformer\n",
    "# 2) Then install pipeline from transformers"
   ]
  },
  {
   "cell_type": "code",
   "execution_count": 21,
   "id": "fc96bae4",
   "metadata": {},
   "outputs": [],
   "source": [
    "from transformers import pipeline\n",
    "\n",
    "# Load and Initialize the pipeline with the specified model and revision\n",
    "summarizer = pipeline(\"summarization\", model=model_name, revision=revision)"
   ]
  },
  {
   "cell_type": "code",
   "execution_count": 22,
   "id": "774ffe16",
   "metadata": {},
   "outputs": [],
   "source": [
    "# News Artical\n",
    "\n",
    "artical= \"\"\"Text messages and emails from political campaigns are pouring into Americans’ phones and inboxes right now. It’s happening to political junkies, to people who gave their phone numbers to campaigns, and even to people who try to keep their contact information off mass mailing lists.\n",
    "\n",
    "I study political campaigns, including how they use social media and mobile phones to build support. In my book “Presidential Campaigning in the Internet Age,” I document the history of how campaigns have used the web, social media and phones in efforts to attract independents and urge supporters to take action.\n",
    "\n",
    "As part of my research for the 2020 election, I subscribed to get text messages from Democratic nominee Joe Biden and Republican nominee Donald Trump. I also used my personal email account – the same one I’ve been using since 1995 – to receive email updates and alerts from both campaigns. I try to look like a supporter. I engage with the emails or text messages periodically, by clicking the links, and I even contribute a tiny amount of my own money to both campaigns so that I really look like a supporter.\n",
    "\n",
    "Compared to prior election campaigns, as I document in my book, this election is not any more or less active on email. It is not unusual for campaigns to send up to a dozen emails a day from different people on the campaign and the party. What is unusual is the volume of text messages. While both Republican and Democratic campaigns sent texts in 2016, the volume of Trump’s texting this election cycle is unprecedented.\"\"\"\n",
    "\n"
   ]
  },
  {
   "cell_type": "code",
   "execution_count": 23,
   "id": "4c7c7ae0",
   "metadata": {},
   "outputs": [
    {
     "data": {
      "text/plain": [
       "[{'summary_text': \" Political junkies are getting texts and emails from political campaigns pouring into their phones and inboxes right now . John Sutter: The volume of Trump's texts this election cycle is unprecedented . He says it's not unusual for campaigns to send up to a dozen emails a day from different people .\"}]"
      ]
     },
     "execution_count": 23,
     "metadata": {},
     "output_type": "execute_result"
    }
   ],
   "source": [
    "# summarize a given news article\n",
    "\n",
    "summarizer(artical, max_length=130, min_length=30, do_sample=False)"
   ]
  },
  {
   "cell_type": "markdown",
   "id": "5f93478a",
   "metadata": {},
   "source": [
    "## Custom Prompt Engineering"
   ]
  },
  {
   "cell_type": "markdown",
   "id": "860b72d0",
   "metadata": {},
   "source": [
    "### design Custom Prompts Engineering for fitness goal of user---->\n",
    "1) Fitness level prompt : \n",
    "  prompt: \"How would you describe your current fitness level? Are you a beginner, intermediate, or advanced athlete?\"\n",
    "  \n",
    "  -By understanding the user's current fitness level, generate workout plan.\n",
    "\n",
    "2) Preferred Workout Environment Prompt :\n",
    "  prompt: \"Do you prefer working out at home, in a gym, or outdoors?\"\n",
    "  \n",
    "  -By taking information from user about their preference, It can be easily performed in their prefered environment\n",
    "  \n",
    "3) Time Commitment Prompt :\n",
    "  prompt: \"How much time can you dedicate to workouts each day? Please specify your preferred duration for each session.\"\n",
    "  \n",
    "  -By understanding user's free time, It can be easy to schedule the time table as per user's choice\"\"\""
   ]
  },
  {
   "cell_type": "code",
   "execution_count": null,
   "id": "5077c2f6",
   "metadata": {},
   "outputs": [],
   "source": []
  }
 ],
 "metadata": {
  "kernelspec": {
   "display_name": "Python 3 (ipykernel)",
   "language": "python",
   "name": "python3"
  },
  "language_info": {
   "codemirror_mode": {
    "name": "ipython",
    "version": 3
   },
   "file_extension": ".py",
   "mimetype": "text/x-python",
   "name": "python",
   "nbconvert_exporter": "python",
   "pygments_lexer": "ipython3",
   "version": "3.9.12"
  }
 },
 "nbformat": 4,
 "nbformat_minor": 5
}

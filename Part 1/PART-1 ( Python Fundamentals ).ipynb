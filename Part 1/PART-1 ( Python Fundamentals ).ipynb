{
 "cells": [
  {
   "cell_type": "markdown",
   "id": "b1ef4ebe",
   "metadata": {},
   "source": [
    "## Data Structures and Manipulation"
   ]
  },
  {
   "cell_type": "code",
   "execution_count": 1,
   "id": "9a8750ad",
   "metadata": {},
   "outputs": [
    {
     "name": "stdout",
     "output_type": "stream",
     "text": [
      "[9, 7, 6, 3, 2, 1, 0]\n"
     ]
    }
   ],
   "source": [
    "# Implement a function to find unique elements from a list and sort them in descending order.\n",
    "\n",
    "def unique_sorted_descending(input_list):\n",
    "    # unique elements using set\n",
    "    unique = set(input_list)\n",
    "    \n",
    "    # Sort unique elements in descending order\n",
    "    sorted_unique_descending = sorted(unique, reverse=True)\n",
    "    \n",
    "    return sorted_unique_descending\n",
    "\n",
    "input_list = [2,6,9,3,7,1,6,9,0,2]\n",
    "result = unique_sorted_descending(input_list)\n",
    "print(result)\n"
   ]
  },
  {
   "cell_type": "code",
   "execution_count": 2,
   "id": "2c507e36",
   "metadata": {},
   "outputs": [
    {
     "name": "stdout",
     "output_type": "stream",
     "text": [
      "{'person_name': 'Lokesh', 'person_age': 25, 'person_address_city': 'Pune', 'person_address_zip': '411001', 'company_name': 'ABC', 'company_location': 'bangalore'}\n"
     ]
    }
   ],
   "source": [
    "# Convert a nested dictionary structure into a flattened dictionary.\n",
    "\n",
    "def flatten_dict(d, key1='', sep='_'):\n",
    "    items = []\n",
    "    for x, y in d.items():\n",
    "        new_key = key1 + sep + x if key1 else x\n",
    "        if isinstance(y, dict):\n",
    "            items.extend(flatten_dict(y, new_key, sep=sep).items())\n",
    "        else:\n",
    "            items.append((new_key, y))\n",
    "    return dict(items)\n",
    "\n",
    "nested_dict = {\n",
    "    'person': {\n",
    "        'name': 'Lokesh',\n",
    "        'age': 25,\n",
    "        'address': {\n",
    "            'city': 'Pune',\n",
    "            'zip': '411001'\n",
    "        }\n",
    "    },\n",
    "    'company': {\n",
    "        'name': 'ABC',\n",
    "        'location': 'bangalore'\n",
    "    }\n",
    "}\n",
    "\n",
    "flattened_dict = flatten_dict(nested_dict)\n",
    "print(flattened_dict)\n",
    "\n",
    "#Output- {'person_name': 'Lokesh', 'person_age': 25, 'person_address_city': 'Pune', 'person_address_zip': '411001', 'company_name': 'ABC', 'company_location': 'bangalore'}\n"
   ]
  },
  {
   "cell_type": "markdown",
   "id": "55ebbf61",
   "metadata": {},
   "source": [
    "## Object-Oriented Programming (OOP)"
   ]
  },
  {
   "cell_type": "code",
   "execution_count": 1,
   "id": "be2a0e61",
   "metadata": {},
   "outputs": [
    {
     "name": "stdout",
     "output_type": "stream",
     "text": [
      "Addition: 30\n",
      "Subtraction: 10\n",
      "Multiplication: 18\n",
      "Division: 5.0\n",
      "Division: Error: Division by zero is not allowed\n",
      "Sine of 0: 0.0\n"
     ]
    }
   ],
   "source": [
    "# Define a class Calculator that supports basic arithmetic operations (addition, subtraction, multiplication, division). Include error handling (e.g., division by zero)\n",
    "\n",
    "#Demonstrate inheritance by extending the Calculator class to a ScientificCalculator that adds trigonometric functions.\n",
    "\n",
    "import math\n",
    "\n",
    "class Calculator:\n",
    "    def add(self, x, y):\n",
    "        return x + y\n",
    "\n",
    "    def subtract(self, x, y):\n",
    "        return x - y\n",
    "\n",
    "    def multiply(self, x, y):\n",
    "        return x * y\n",
    "\n",
    "    def divide(self, x, y):\n",
    "        try:\n",
    "            result = x / y\n",
    "        except ZeroDivisionError:\n",
    "            return \"Error: Division by zero is not allowed\"\n",
    "        return result\n",
    "\n",
    "class ScientificCalculator(Calculator):\n",
    "    def sin(self, x):\n",
    "        return math.sin(x)\n",
    "\n",
    "    def cos(self, x):\n",
    "        return math.cos(x)\n",
    "\n",
    "    def tan(self, x):\n",
    "        return math.tan(x)\n",
    "\n",
    "scientific_calc = ScientificCalculator()\n",
    "\n",
    "# arithmetic operations\n",
    "print(\"Addition:\", scientific_calc.add(10, 20))  # Output: 30\n",
    "print(\"Subtraction:\", scientific_calc.subtract(15, 5))  # Output: 10\n",
    "print(\"Multiplication:\", scientific_calc.multiply(6, 3))  # Output: 18\n",
    "print(\"Division:\", scientific_calc.divide(10, 2))  # Output: 5\n",
    "print(\"Division:\", scientific_calc.divide(10, 0))  # Output: Error: Division by zero is not allowed\n",
    "\n",
    "# Trigonometric functions\n",
    "print(\"Sine of 0:\", scientific_calc.sin(0))  # Output: 0.0"
   ]
  },
  {
   "cell_type": "markdown",
   "id": "07f38a32",
   "metadata": {},
   "source": [
    "## File I/O"
   ]
  },
  {
   "cell_type": "code",
   "execution_count": 5,
   "id": "77755891",
   "metadata": {},
   "outputs": [
    {
     "data": {
      "text/html": [
       "<div>\n",
       "<style scoped>\n",
       "    .dataframe tbody tr th:only-of-type {\n",
       "        vertical-align: middle;\n",
       "    }\n",
       "\n",
       "    .dataframe tbody tr th {\n",
       "        vertical-align: top;\n",
       "    }\n",
       "\n",
       "    .dataframe thead th {\n",
       "        text-align: right;\n",
       "    }\n",
       "</style>\n",
       "<table border=\"1\" class=\"dataframe\">\n",
       "  <thead>\n",
       "    <tr style=\"text-align: right;\">\n",
       "      <th></th>\n",
       "      <th>Index</th>\n",
       "      <th>User Id</th>\n",
       "      <th>First Name</th>\n",
       "      <th>Last Name</th>\n",
       "      <th>Sex</th>\n",
       "      <th>Email</th>\n",
       "      <th>Date of birth</th>\n",
       "      <th>Job Title</th>\n",
       "      <th>Age</th>\n",
       "    </tr>\n",
       "  </thead>\n",
       "  <tbody>\n",
       "    <tr>\n",
       "      <th>0</th>\n",
       "      <td>1</td>\n",
       "      <td>88F7B33d2bcf9f5</td>\n",
       "      <td>Shelby</td>\n",
       "      <td>Terrell</td>\n",
       "      <td>Male</td>\n",
       "      <td>elijah57@example.net</td>\n",
       "      <td>26-10-1945</td>\n",
       "      <td>Games developer</td>\n",
       "      <td>25</td>\n",
       "    </tr>\n",
       "    <tr>\n",
       "      <th>1</th>\n",
       "      <td>2</td>\n",
       "      <td>f90cD3E76f1A9b9</td>\n",
       "      <td>Phillip</td>\n",
       "      <td>Summers</td>\n",
       "      <td>Female</td>\n",
       "      <td>bethany14@example.com</td>\n",
       "      <td>24-03-1910</td>\n",
       "      <td>Phytotherapist</td>\n",
       "      <td>53</td>\n",
       "    </tr>\n",
       "    <tr>\n",
       "      <th>2</th>\n",
       "      <td>3</td>\n",
       "      <td>DbeAb8CcdfeFC2c</td>\n",
       "      <td>Kristine</td>\n",
       "      <td>Travis</td>\n",
       "      <td>Male</td>\n",
       "      <td>bthompson@example.com</td>\n",
       "      <td>02-07-1992</td>\n",
       "      <td>Homeopath</td>\n",
       "      <td>30</td>\n",
       "    </tr>\n",
       "    <tr>\n",
       "      <th>3</th>\n",
       "      <td>4</td>\n",
       "      <td>A31Bee3c201ef58</td>\n",
       "      <td>Yesenia</td>\n",
       "      <td>Martinez</td>\n",
       "      <td>Male</td>\n",
       "      <td>kaitlinkaiser@example.com</td>\n",
       "      <td>03-08-2017</td>\n",
       "      <td>Market researcher</td>\n",
       "      <td>32</td>\n",
       "    </tr>\n",
       "    <tr>\n",
       "      <th>4</th>\n",
       "      <td>5</td>\n",
       "      <td>1bA7A3dc874da3c</td>\n",
       "      <td>Lori</td>\n",
       "      <td>Todd</td>\n",
       "      <td>Male</td>\n",
       "      <td>buchananmanuel@example.net</td>\n",
       "      <td>01-12-1938</td>\n",
       "      <td>Veterinary surgeon</td>\n",
       "      <td>56</td>\n",
       "    </tr>\n",
       "  </tbody>\n",
       "</table>\n",
       "</div>"
      ],
      "text/plain": [
       "   Index          User Id First Name Last Name     Sex  \\\n",
       "0      1  88F7B33d2bcf9f5     Shelby   Terrell    Male   \n",
       "1      2  f90cD3E76f1A9b9    Phillip   Summers  Female   \n",
       "2      3  DbeAb8CcdfeFC2c   Kristine    Travis    Male   \n",
       "3      4  A31Bee3c201ef58    Yesenia  Martinez    Male   \n",
       "4      5  1bA7A3dc874da3c       Lori      Todd    Male   \n",
       "\n",
       "                        Email Date of birth           Job Title  Age  \n",
       "0        elijah57@example.net    26-10-1945     Games developer   25  \n",
       "1       bethany14@example.com    24-03-1910      Phytotherapist   53  \n",
       "2       bthompson@example.com    02-07-1992           Homeopath   30  \n",
       "3   kaitlinkaiser@example.com    03-08-2017   Market researcher   32  \n",
       "4  buchananmanuel@example.net    01-12-1938  Veterinary surgeon   56  "
      ]
     },
     "execution_count": 5,
     "metadata": {},
     "output_type": "execute_result"
    }
   ],
   "source": [
    "import pandas as pd\n",
    "from sklearn.preprocessing import MinMaxScaler\n",
    "\n",
    "# Read the CSV file\n",
    "df = pd.read_csv('people.csv')\n",
    "df.head()"
   ]
  },
  {
   "cell_type": "code",
   "execution_count": 6,
   "id": "246087b1",
   "metadata": {},
   "outputs": [
    {
     "data": {
      "text/plain": [
       "(100, 9)"
      ]
     },
     "execution_count": 6,
     "metadata": {},
     "output_type": "execute_result"
    }
   ],
   "source": [
    "df.shape   #shows 100 records and 9 columns"
   ]
  },
  {
   "cell_type": "code",
   "execution_count": 7,
   "id": "f0ac7005",
   "metadata": {},
   "outputs": [],
   "source": [
    "# Clean missing values\n",
    "df.dropna(inplace=True)"
   ]
  },
  {
   "cell_type": "code",
   "execution_count": 9,
   "id": "8bc663bf",
   "metadata": {},
   "outputs": [
    {
     "data": {
      "text/plain": [
       "(93, 9)"
      ]
     },
     "execution_count": 9,
     "metadata": {},
     "output_type": "execute_result"
    }
   ],
   "source": [
    "df.shape  #shows 93 records and 9 columns after droping missing values"
   ]
  },
  {
   "cell_type": "code",
   "execution_count": 13,
   "id": "237aa3f9",
   "metadata": {},
   "outputs": [
    {
     "data": {
      "text/html": [
       "<div>\n",
       "<style scoped>\n",
       "    .dataframe tbody tr th:only-of-type {\n",
       "        vertical-align: middle;\n",
       "    }\n",
       "\n",
       "    .dataframe tbody tr th {\n",
       "        vertical-align: top;\n",
       "    }\n",
       "\n",
       "    .dataframe thead th {\n",
       "        text-align: right;\n",
       "    }\n",
       "</style>\n",
       "<table border=\"1\" class=\"dataframe\">\n",
       "  <thead>\n",
       "    <tr style=\"text-align: right;\">\n",
       "      <th></th>\n",
       "      <th>Index</th>\n",
       "      <th>User Id</th>\n",
       "      <th>First Name</th>\n",
       "      <th>Last Name</th>\n",
       "      <th>Sex</th>\n",
       "      <th>Email</th>\n",
       "      <th>Date of birth</th>\n",
       "      <th>Job Title</th>\n",
       "      <th>Age</th>\n",
       "    </tr>\n",
       "  </thead>\n",
       "  <tbody>\n",
       "    <tr>\n",
       "      <th>0</th>\n",
       "      <td>1</td>\n",
       "      <td>88F7B33d2bcf9f5</td>\n",
       "      <td>Shelby</td>\n",
       "      <td>Terrell</td>\n",
       "      <td>Male</td>\n",
       "      <td>elijah57@example.net</td>\n",
       "      <td>26-10-1945</td>\n",
       "      <td>Games developer</td>\n",
       "      <td>0.088235</td>\n",
       "    </tr>\n",
       "    <tr>\n",
       "      <th>1</th>\n",
       "      <td>2</td>\n",
       "      <td>f90cD3E76f1A9b9</td>\n",
       "      <td>Phillip</td>\n",
       "      <td>Summers</td>\n",
       "      <td>Female</td>\n",
       "      <td>bethany14@example.com</td>\n",
       "      <td>24-03-1910</td>\n",
       "      <td>Phytotherapist</td>\n",
       "      <td>0.911765</td>\n",
       "    </tr>\n",
       "    <tr>\n",
       "      <th>2</th>\n",
       "      <td>3</td>\n",
       "      <td>DbeAb8CcdfeFC2c</td>\n",
       "      <td>Kristine</td>\n",
       "      <td>Travis</td>\n",
       "      <td>Male</td>\n",
       "      <td>bthompson@example.com</td>\n",
       "      <td>02-07-1992</td>\n",
       "      <td>Homeopath</td>\n",
       "      <td>0.235294</td>\n",
       "    </tr>\n",
       "    <tr>\n",
       "      <th>3</th>\n",
       "      <td>4</td>\n",
       "      <td>A31Bee3c201ef58</td>\n",
       "      <td>Yesenia</td>\n",
       "      <td>Martinez</td>\n",
       "      <td>Male</td>\n",
       "      <td>kaitlinkaiser@example.com</td>\n",
       "      <td>03-08-2017</td>\n",
       "      <td>Market researcher</td>\n",
       "      <td>0.294118</td>\n",
       "    </tr>\n",
       "    <tr>\n",
       "      <th>4</th>\n",
       "      <td>5</td>\n",
       "      <td>1bA7A3dc874da3c</td>\n",
       "      <td>Lori</td>\n",
       "      <td>Todd</td>\n",
       "      <td>Male</td>\n",
       "      <td>buchananmanuel@example.net</td>\n",
       "      <td>01-12-1938</td>\n",
       "      <td>Veterinary surgeon</td>\n",
       "      <td>1.000000</td>\n",
       "    </tr>\n",
       "  </tbody>\n",
       "</table>\n",
       "</div>"
      ],
      "text/plain": [
       "   Index          User Id First Name Last Name     Sex  \\\n",
       "0      1  88F7B33d2bcf9f5     Shelby   Terrell    Male   \n",
       "1      2  f90cD3E76f1A9b9    Phillip   Summers  Female   \n",
       "2      3  DbeAb8CcdfeFC2c   Kristine    Travis    Male   \n",
       "3      4  A31Bee3c201ef58    Yesenia  Martinez    Male   \n",
       "4      5  1bA7A3dc874da3c       Lori      Todd    Male   \n",
       "\n",
       "                        Email Date of birth           Job Title       Age  \n",
       "0        elijah57@example.net    26-10-1945     Games developer  0.088235  \n",
       "1       bethany14@example.com    24-03-1910      Phytotherapist  0.911765  \n",
       "2       bthompson@example.com    02-07-1992           Homeopath  0.235294  \n",
       "3   kaitlinkaiser@example.com    03-08-2017   Market researcher  0.294118  \n",
       "4  buchananmanuel@example.net    01-12-1938  Veterinary surgeon  1.000000  "
      ]
     },
     "execution_count": 13,
     "metadata": {},
     "output_type": "execute_result"
    }
   ],
   "source": [
    "# Normalize the 'Age' column\n",
    "scaler = MinMaxScaler()\n",
    "df['Age'] = scaler.fit_transform(df[['Age']])\n",
    "\n",
    "# Display the cleaned and normalized DataFrame\n",
    "df.head()"
   ]
  },
  {
   "cell_type": "code",
   "execution_count": 14,
   "id": "2ca7829a",
   "metadata": {},
   "outputs": [],
   "source": [
    "# Write the cleaned data to a new JSON file\n",
    "df.to_json('cleaned_data.json', orient='records', lines=True)"
   ]
  },
  {
   "cell_type": "code",
   "execution_count": null,
   "id": "b9e8752f",
   "metadata": {},
   "outputs": [],
   "source": []
  }
 ],
 "metadata": {
  "kernelspec": {
   "display_name": "Python 3 (ipykernel)",
   "language": "python",
   "name": "python3"
  },
  "language_info": {
   "codemirror_mode": {
    "name": "ipython",
    "version": 3
   },
   "file_extension": ".py",
   "mimetype": "text/x-python",
   "name": "python",
   "nbconvert_exporter": "python",
   "pygments_lexer": "ipython3",
   "version": "3.9.12"
  }
 },
 "nbformat": 4,
 "nbformat_minor": 5
}
